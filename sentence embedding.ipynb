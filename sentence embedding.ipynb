{
 "cells": [
  {
   "cell_type": "code",
   "execution_count": 16,
   "id": "fede1b9b",
   "metadata": {},
   "outputs": [],
   "source": [
    "# Example DataFrame\n",
    "import pandas as pd\n",
    "data = {'id': [i for i in range(1, 101)], 'text_col': [\"Text data \" + str(i) for i in range(1, 101)]}\n",
    "df = pd.DataFrame(data)\n",
    "\n"
   ]
  },
  {
   "cell_type": "code",
   "execution_count": 10,
   "id": "5d65bbc5",
   "metadata": {},
   "outputs": [],
   "source": [
    "data = {'text_col': [\"Text data \" + str(i) for i in range(1, 101)]}"
   ]
  },
  {
   "cell_type": "code",
   "execution_count": 17,
   "id": "80b22d76",
   "metadata": {},
   "outputs": [
    {
     "data": {
      "text/html": [
       "<div>\n",
       "<style scoped>\n",
       "    .dataframe tbody tr th:only-of-type {\n",
       "        vertical-align: middle;\n",
       "    }\n",
       "\n",
       "    .dataframe tbody tr th {\n",
       "        vertical-align: top;\n",
       "    }\n",
       "\n",
       "    .dataframe thead th {\n",
       "        text-align: right;\n",
       "    }\n",
       "</style>\n",
       "<table border=\"1\" class=\"dataframe\">\n",
       "  <thead>\n",
       "    <tr style=\"text-align: right;\">\n",
       "      <th></th>\n",
       "      <th>id</th>\n",
       "      <th>text_col</th>\n",
       "    </tr>\n",
       "  </thead>\n",
       "  <tbody>\n",
       "    <tr>\n",
       "      <th>0</th>\n",
       "      <td>1</td>\n",
       "      <td>Text data 1</td>\n",
       "    </tr>\n",
       "    <tr>\n",
       "      <th>1</th>\n",
       "      <td>2</td>\n",
       "      <td>Text data 2</td>\n",
       "    </tr>\n",
       "    <tr>\n",
       "      <th>2</th>\n",
       "      <td>3</td>\n",
       "      <td>Text data 3</td>\n",
       "    </tr>\n",
       "    <tr>\n",
       "      <th>3</th>\n",
       "      <td>4</td>\n",
       "      <td>Text data 4</td>\n",
       "    </tr>\n",
       "    <tr>\n",
       "      <th>4</th>\n",
       "      <td>5</td>\n",
       "      <td>Text data 5</td>\n",
       "    </tr>\n",
       "    <tr>\n",
       "      <th>...</th>\n",
       "      <td>...</td>\n",
       "      <td>...</td>\n",
       "    </tr>\n",
       "    <tr>\n",
       "      <th>95</th>\n",
       "      <td>96</td>\n",
       "      <td>Text data 96</td>\n",
       "    </tr>\n",
       "    <tr>\n",
       "      <th>96</th>\n",
       "      <td>97</td>\n",
       "      <td>Text data 97</td>\n",
       "    </tr>\n",
       "    <tr>\n",
       "      <th>97</th>\n",
       "      <td>98</td>\n",
       "      <td>Text data 98</td>\n",
       "    </tr>\n",
       "    <tr>\n",
       "      <th>98</th>\n",
       "      <td>99</td>\n",
       "      <td>Text data 99</td>\n",
       "    </tr>\n",
       "    <tr>\n",
       "      <th>99</th>\n",
       "      <td>100</td>\n",
       "      <td>Text data 100</td>\n",
       "    </tr>\n",
       "  </tbody>\n",
       "</table>\n",
       "<p>100 rows × 2 columns</p>\n",
       "</div>"
      ],
      "text/plain": [
       "     id       text_col\n",
       "0     1    Text data 1\n",
       "1     2    Text data 2\n",
       "2     3    Text data 3\n",
       "3     4    Text data 4\n",
       "4     5    Text data 5\n",
       "..  ...            ...\n",
       "95   96   Text data 96\n",
       "96   97   Text data 97\n",
       "97   98   Text data 98\n",
       "98   99   Text data 99\n",
       "99  100  Text data 100\n",
       "\n",
       "[100 rows x 2 columns]"
      ]
     },
     "execution_count": 17,
     "metadata": {},
     "output_type": "execute_result"
    }
   ],
   "source": [
    "df"
   ]
  },
  {
   "cell_type": "code",
   "execution_count": 18,
   "id": "076afc3b",
   "metadata": {},
   "outputs": [],
   "source": [
    "df = pd.read_parquet('./Downloads/part-43-arxiv-titles-instructorxl.parquet')"
   ]
  },
  {
   "cell_type": "code",
   "execution_count": 24,
   "id": "ac39e20a",
   "metadata": {},
   "outputs": [],
   "source": [
    "df = df.head(100)"
   ]
  },
  {
   "cell_type": "code",
   "execution_count": 28,
   "id": "227e4fc0",
   "metadata": {},
   "outputs": [],
   "source": [
    "from sentence_transformers import SentenceTransformer\n",
    "\n",
    "model = SentenceTransformer('sentence-transformers/all-mpnet-base-v2')\n",
    "#embeddings = model.encode(sentences)\n",
    "#print(embeddings)\n"
   ]
  },
  {
   "cell_type": "code",
   "execution_count": 29,
   "id": "175f8d7b",
   "metadata": {},
   "outputs": [],
   "source": [
    "def get_embedding(text):\n",
    "    return model.encode(text)\n"
   ]
  },
  {
   "cell_type": "code",
   "execution_count": 30,
   "id": "5aa8e750",
   "metadata": {},
   "outputs": [],
   "source": [
    "df['embedding'] = df['title'].apply(get_embedding)\n"
   ]
  },
  {
   "cell_type": "code",
   "execution_count": 31,
   "id": "aff4e8ea",
   "metadata": {},
   "outputs": [
    {
     "data": {
      "text/plain": [
       "0     [0.0042530843, 0.013247175, 0.0360122, -0.0070...\n",
       "1     [-0.021199746, -0.061657507, -0.0076633263, -0...\n",
       "2     [-0.03556598, 0.0024858294, -0.0040469896, 0.0...\n",
       "3     [-0.024036335, -0.041395456, -0.02390682, -0.0...\n",
       "4     [-0.014713412, 0.0012787735, 0.019936575, 0.05...\n",
       "                            ...                        \n",
       "95    [0.006364717, 0.07570554, 0.0049972017, -0.001...\n",
       "96    [0.0030591928, -0.016870337, -0.002639833, 0.0...\n",
       "97    [0.049320925, 0.04892407, -0.025128497, 0.0371...\n",
       "98    [-0.029565508, 0.024537383, -0.010502558, 0.04...\n",
       "99    [0.016082212, 0.030683376, -0.006186725, -0.04...\n",
       "Name: embedding, Length: 100, dtype: object"
      ]
     },
     "execution_count": 31,
     "metadata": {},
     "output_type": "execute_result"
    }
   ],
   "source": [
    "df['embedding']"
   ]
  },
  {
   "cell_type": "code",
   "execution_count": 3,
   "id": "e238d557",
   "metadata": {},
   "outputs": [
    {
     "data": {
      "application/vnd.jupyter.widget-view+json": {
       "model_id": "75d529c05f344aba81c0ced305d27be6",
       "version_major": 2,
       "version_minor": 0
      },
      "text/plain": [
       ".gitattributes:   0%|          | 0.00/1.18k [00:00<?, ?B/s]"
      ]
     },
     "metadata": {},
     "output_type": "display_data"
    },
    {
     "data": {
      "application/vnd.jupyter.widget-view+json": {
       "model_id": "0423606a7fc14821aad3832a7f21d3d8",
       "version_major": 2,
       "version_minor": 0
      },
      "text/plain": [
       "1_Pooling/config.json:   0%|          | 0.00/190 [00:00<?, ?B/s]"
      ]
     },
     "metadata": {},
     "output_type": "display_data"
    },
    {
     "data": {
      "application/vnd.jupyter.widget-view+json": {
       "model_id": "fa500d976a6e4c8e8f62f8459955fad9",
       "version_major": 2,
       "version_minor": 0
      },
      "text/plain": [
       "README.md:   0%|          | 0.00/10.6k [00:00<?, ?B/s]"
      ]
     },
     "metadata": {},
     "output_type": "display_data"
    },
    {
     "data": {
      "application/vnd.jupyter.widget-view+json": {
       "model_id": "f629c9424a7d448990d155245e921c4f",
       "version_major": 2,
       "version_minor": 0
      },
      "text/plain": [
       "config.json:   0%|          | 0.00/573 [00:00<?, ?B/s]"
      ]
     },
     "metadata": {},
     "output_type": "display_data"
    },
    {
     "data": {
      "application/vnd.jupyter.widget-view+json": {
       "model_id": "4249d85260c546a0a2bc56b3bf0bb2ab",
       "version_major": 2,
       "version_minor": 0
      },
      "text/plain": [
       "config_sentence_transformers.json:   0%|          | 0.00/116 [00:00<?, ?B/s]"
      ]
     },
     "metadata": {},
     "output_type": "display_data"
    },
    {
     "data": {
      "application/vnd.jupyter.widget-view+json": {
       "model_id": "cc81730a92084eaa8df516e44369f175",
       "version_major": 2,
       "version_minor": 0
      },
      "text/plain": [
       "data_config.json:   0%|          | 0.00/39.3k [00:00<?, ?B/s]"
      ]
     },
     "metadata": {},
     "output_type": "display_data"
    },
    {
     "data": {
      "application/vnd.jupyter.widget-view+json": {
       "model_id": "1ddf57d397f64a7cb32b8c48068beb01",
       "version_major": 2,
       "version_minor": 0
      },
      "text/plain": [
       "pytorch_model.bin:   0%|          | 0.00/134M [00:00<?, ?B/s]"
      ]
     },
     "metadata": {},
     "output_type": "display_data"
    },
    {
     "data": {
      "application/vnd.jupyter.widget-view+json": {
       "model_id": "8b76d260ddb644fabc9656a2222c719b",
       "version_major": 2,
       "version_minor": 0
      },
      "text/plain": [
       "sentence_bert_config.json:   0%|          | 0.00/53.0 [00:00<?, ?B/s]"
      ]
     },
     "metadata": {},
     "output_type": "display_data"
    },
    {
     "data": {
      "application/vnd.jupyter.widget-view+json": {
       "model_id": "fbe5a3e906e2456081f8efc1703dcc7c",
       "version_major": 2,
       "version_minor": 0
      },
      "text/plain": [
       "special_tokens_map.json:   0%|          | 0.00/112 [00:00<?, ?B/s]"
      ]
     },
     "metadata": {},
     "output_type": "display_data"
    },
    {
     "data": {
      "application/vnd.jupyter.widget-view+json": {
       "model_id": "f831632fef8d4835846124ee1ef0fed3",
       "version_major": 2,
       "version_minor": 0
      },
      "text/plain": [
       "tokenizer.json:   0%|          | 0.00/466k [00:00<?, ?B/s]"
      ]
     },
     "metadata": {},
     "output_type": "display_data"
    },
    {
     "data": {
      "application/vnd.jupyter.widget-view+json": {
       "model_id": "dfa218f1e324444391d1a66f44d865af",
       "version_major": 2,
       "version_minor": 0
      },
      "text/plain": [
       "tokenizer_config.json:   0%|          | 0.00/352 [00:00<?, ?B/s]"
      ]
     },
     "metadata": {},
     "output_type": "display_data"
    },
    {
     "data": {
      "application/vnd.jupyter.widget-view+json": {
       "model_id": "55f7a56282984eb9ab5136312cc7acb3",
       "version_major": 2,
       "version_minor": 0
      },
      "text/plain": [
       "train_script.py:   0%|          | 0.00/13.2k [00:00<?, ?B/s]"
      ]
     },
     "metadata": {},
     "output_type": "display_data"
    },
    {
     "data": {
      "application/vnd.jupyter.widget-view+json": {
       "model_id": "4d01b7616b24457fbe3693430415180f",
       "version_major": 2,
       "version_minor": 0
      },
      "text/plain": [
       "vocab.txt:   0%|          | 0.00/232k [00:00<?, ?B/s]"
      ]
     },
     "metadata": {},
     "output_type": "display_data"
    },
    {
     "data": {
      "application/vnd.jupyter.widget-view+json": {
       "model_id": "887debdde7e046789012edc67878b52f",
       "version_major": 2,
       "version_minor": 0
      },
      "text/plain": [
       "modules.json:   0%|          | 0.00/349 [00:00<?, ?B/s]"
      ]
     },
     "metadata": {},
     "output_type": "display_data"
    },
    {
     "name": "stdout",
     "output_type": "stream",
     "text": [
      "[[-2.02653784e-04  8.14801902e-02  3.13617550e-02  2.92063109e-03\n",
      "   2.61564255e-02  2.90739853e-02  7.82618672e-02 -1.80423772e-03\n",
      "   1.01344332e-01 -4.51712087e-02  5.84349670e-02 -1.53200738e-02\n",
      "   5.49956486e-02 -9.86434668e-02 -3.50252874e-02  8.45679455e-03\n",
      "   1.58608910e-02  1.05626564e-02 -3.42710055e-02 -4.75059729e-03\n",
      "   9.99021009e-02 -2.06018183e-02 -4.47837338e-02  3.12136039e-02\n",
      "  -1.19241476e-02 -5.15015461e-02 -1.33605236e-02  1.89621914e-02\n",
      "   9.76810232e-02 -5.44110946e-02 -3.43314409e-02  8.12905356e-02\n",
      "   4.88120168e-02 -1.10283978e-02  2.13519223e-02  1.27189970e-02\n",
      "  -1.43967904e-02  3.62864919e-02 -7.61233047e-02  3.23293991e-02\n",
      "   2.08103098e-02 -4.22015712e-02  9.12906677e-02  2.08529644e-02\n",
      "  -3.08016930e-02 -8.38505328e-02  1.30891129e-02 -3.00631542e-02\n",
      "   4.11228649e-02 -1.27495334e-01 -7.78027400e-02 -3.93412523e-02\n",
      "   1.52600650e-03 -2.80108284e-02  3.41662429e-02  1.46713024e-02\n",
      "  -7.71653876e-02  1.63619563e-01  4.11294885e-02 -5.24459407e-02\n",
      "  -4.18771915e-02  1.80532467e-02 -1.38921980e-02 -3.68188582e-02\n",
      "   6.94981664e-02 -2.57089473e-02  3.58545855e-02  2.10188814e-02\n",
      "  -3.88453491e-02  5.48933493e-03 -5.24538830e-02  2.53096260e-02\n",
      "  -3.37337889e-02  1.32596180e-01 -6.10912926e-02  3.26037854e-02\n",
      "   5.77244200e-02 -2.34847888e-02  2.13150866e-02 -1.94010470e-04\n",
      "  -6.79134810e-03 -9.23271552e-02  8.69553909e-03  4.67636921e-02\n",
      "  -1.09595852e-02  3.90583016e-02  4.67450656e-02 -6.97859973e-02\n",
      "  -8.76973849e-03 -4.95576020e-03 -4.60132631e-03 -1.33247972e-02\n",
      "   2.32676268e-02 -3.53463069e-02  4.84495889e-03  1.13839786e-02\n",
      "  -1.28256446e-02 -6.86461478e-02  9.05700848e-02  1.46576911e-01\n",
      "  -2.57073599e-03  1.96604175e-03 -4.44638282e-02  8.92918482e-02\n",
      "  -1.84478390e-03 -7.39448294e-02  2.70542949e-02 -1.62209384e-02\n",
      "  -6.78873854e-03  5.03089046e-03  2.87308521e-03  1.09455191e-01\n",
      "   5.26220631e-03 -2.67167948e-02  2.40294915e-02 -1.02002703e-01\n",
      "  -5.51330298e-02  3.11162062e-02 -4.25663032e-02  2.41171252e-02\n",
      "   8.62249732e-02  1.40620172e-02  5.43983616e-02  6.58215629e-03\n",
      "  -6.54589338e-03 -1.82522461e-01  3.33473017e-03 -3.55974510e-02\n",
      "   7.08516464e-02 -9.57390144e-02 -1.96370855e-02 -3.81112695e-02\n",
      "  -3.35169397e-02 -1.22583983e-02 -1.95621308e-02 -1.88210253e-02\n",
      "   7.09057674e-02 -2.38280371e-02 -4.38258275e-02  4.14047344e-03\n",
      "   2.34935600e-02  7.08973333e-02  4.74441051e-02  1.10030659e-01\n",
      "  -1.46242399e-02  8.38571265e-02 -2.49920432e-02  2.43395548e-02\n",
      "   2.58427933e-02  3.48661165e-03  7.75774494e-02  1.36854034e-02\n",
      "  -1.12433685e-03 -4.09774780e-02  9.43043642e-03  8.89131352e-02\n",
      "   1.78674832e-02 -1.25597985e-02  2.03468502e-02  2.68275272e-02\n",
      "  -1.12383023e-01 -4.35612444e-03 -3.59276794e-02  3.59332399e-03\n",
      "   3.43266465e-02 -5.97712584e-02 -1.52727412e-02  1.96031760e-02\n",
      "  -1.81837305e-02  2.43068766e-02  3.61865200e-02  1.40597885e-02\n",
      "   7.63977543e-02 -2.29791645e-02 -3.02057825e-02 -5.18091060e-02\n",
      "   8.70226510e-03  1.03742983e-02  2.12673135e-02  1.47499377e-02\n",
      "   1.99046303e-02 -3.26794684e-02 -5.58854826e-02  1.33373970e-02\n",
      "  -2.55302526e-02  2.49464866e-02 -2.11066864e-02 -9.40899178e-03\n",
      "   6.47299141e-02  8.33946690e-02 -6.21270053e-02 -1.80429332e-02\n",
      "  -1.31128952e-02  5.53955371e-03  8.67446419e-03 -4.61624600e-02\n",
      "   2.93964092e-02  1.22839725e-02  2.90663000e-02 -2.46202964e-02\n",
      "  -3.52006964e-02  4.11811098e-02 -5.11748157e-02 -7.29921162e-02\n",
      "  -4.15234417e-02 -2.82162707e-02  2.18408555e-02 -2.09279153e-02\n",
      "  -7.19908699e-02 -6.35345578e-02  2.97388658e-02  8.86808857e-02\n",
      "  -1.20571971e-01  6.41293637e-03 -1.44594153e-02  2.02449644e-03\n",
      "   2.14877091e-02  4.11970727e-02 -9.97400358e-02 -3.58696538e-03\n",
      "  -3.19879502e-02 -8.88214856e-02  1.03656203e-02  1.42719047e-32\n",
      "  -6.83850348e-02  9.51828584e-02 -6.60326704e-02 -1.38879428e-03\n",
      "   2.51543000e-02 -1.49376895e-02  2.05729529e-02  9.61370859e-03\n",
      "  -5.12582846e-02  2.00128611e-02 -6.83292672e-02  7.21151307e-02\n",
      "   1.00440206e-03  5.33541404e-02 -6.63842931e-02 -4.96829264e-02\n",
      "   6.08996255e-03  5.82695119e-02 -1.79338921e-02  1.60418525e-02\n",
      "   2.46767141e-03  1.09896615e-01 -6.04726747e-02  3.49095836e-02\n",
      "   8.86768382e-03  5.38224801e-02  3.75711285e-02 -4.12494913e-02\n",
      "  -9.29338410e-02 -2.57947855e-02 -2.73306407e-02 -3.40203848e-03\n",
      "  -5.42246439e-02  8.97039175e-02 -3.52194272e-02  2.80628055e-02\n",
      "   1.09665670e-01 -8.79286155e-02 -2.83204988e-02 -1.27085187e-02\n",
      "  -7.53677487e-02 -6.22945018e-02 -1.00846007e-01  1.68440342e-01\n",
      "  -6.55395240e-02 -2.01679543e-02  2.04910971e-02 -5.05103171e-03\n",
      "   3.53213958e-02  1.87974144e-02 -8.69056806e-02 -4.40778621e-02\n",
      "   3.24553214e-02  3.73138417e-03 -4.69771661e-02 -6.99292403e-03\n",
      "  -1.12586273e-02 -3.00850626e-02  2.64132377e-02 -2.54760869e-02\n",
      "  -9.44524407e-02  4.47599143e-02  2.59943753e-02  3.36647779e-02\n",
      "   1.07355192e-01  2.38673836e-02 -5.21559790e-02 -2.57881600e-02\n",
      "  -8.84785969e-03 -4.32151929e-02 -5.78810796e-02 -5.88492397e-03\n",
      "  -4.22229432e-02  1.25166140e-02  1.29756806e-02  1.61901899e-02\n",
      "  -2.09276974e-02 -8.63669440e-02 -5.29267490e-02 -9.72053327e-04\n",
      "   5.20951413e-02 -1.65281333e-02  6.22635670e-02 -4.54175659e-03\n",
      "   2.80564036e-02  1.71491653e-02 -4.03570905e-02  1.90637428e-02\n",
      "  -1.75334141e-02  4.13966626e-02  3.06927729e-02 -6.78556040e-02\n",
      "   9.46631581e-02  6.15275614e-02 -2.61963569e-02  1.39212811e-32\n",
      "   1.48216849e-02 -1.52166933e-01  2.25130338e-02  2.27078777e-02\n",
      "   9.22923684e-02 -2.17562803e-04  6.13868907e-02 -7.12981373e-02\n",
      "  -3.95964012e-02 -9.70902015e-03 -6.78195208e-02  3.66614549e-03\n",
      "  -2.53055599e-02  9.29443091e-02  1.60620566e-02  1.12752877e-01\n",
      "   7.18754949e-03 -2.65196577e-04 -9.71044153e-02  2.00650981e-03\n",
      "   5.14541790e-02  1.56571588e-03 -8.62777382e-02 -7.97888171e-03\n",
      "   2.04309002e-02  8.40780046e-03 -7.00030103e-02  2.19122451e-02\n",
      "  -1.66414678e-02  2.17619985e-02  2.47456152e-02  8.93286243e-02\n",
      "   3.61199044e-02 -5.74983209e-02  9.15848371e-03  1.25125302e-02\n",
      "   6.63418919e-02 -5.74396849e-02  2.81946138e-02 -6.73792884e-02\n",
      "  -2.03465037e-02  4.74988557e-02  9.15750582e-03  8.00419599e-02\n",
      "   5.64985164e-02  6.37302622e-02 -1.94757450e-02  5.68360928e-03\n",
      "   2.93420795e-02 -3.61425132e-02  4.48966771e-02 -4.17972170e-02\n",
      "   5.85531592e-02 -1.53528422e-03  3.34263965e-02 -3.71498913e-02\n",
      "   9.13789123e-02  4.67399461e-03 -1.40173789e-02  2.19752323e-02\n",
      "   2.38484982e-02  6.20930344e-02  4.91031706e-02 -2.90211232e-04]\n",
      " [ 6.47571310e-02  4.85197753e-02 -1.78603455e-02 -4.79775481e-02\n",
      "  -5.90878762e-02 -5.21421805e-02  3.94431464e-02 -6.28444478e-02\n",
      "   6.61211908e-02  7.65797943e-02 -2.12549174e-04  1.53199118e-02\n",
      "   3.99677008e-02 -7.06014484e-02  2.42445376e-02 -4.15882319e-02\n",
      "  -1.44651544e-03 -7.76055222e-03 -5.60425818e-02 -8.89627934e-02\n",
      "   7.06948489e-02  2.10279394e-02  2.86226571e-02 -7.87082035e-03\n",
      "  -1.65645629e-02  7.32637420e-02 -9.49890018e-02  1.31726116e-02\n",
      "  -7.24030752e-03 -5.30784056e-02  1.82759408e-02  8.47901180e-02\n",
      "   2.01484337e-02 -5.92902256e-03  2.06325538e-02 -2.26335749e-02\n",
      "  -5.85690998e-02 -2.36693062e-02  4.67452547e-03 -2.85709593e-02\n",
      "   4.13223840e-02  3.86458859e-02  3.79610732e-02 -7.85150856e-04\n",
      "   4.32115681e-02 -6.86873123e-03 -7.14447424e-02 -1.38357263e-02\n",
      "   6.35135248e-02 -3.96096259e-02 -9.40360948e-02 -2.85778586e-02\n",
      "  -5.97505420e-02  4.50223871e-02 -6.71600318e-03 -6.95389584e-02\n",
      "  -1.70323588e-02  1.47674188e-01  8.38527363e-03 -6.98420405e-02\n",
      "  -9.53749120e-02  6.27284050e-02  5.63122239e-03  9.34242620e-04\n",
      "   4.29982506e-02 -2.38141511e-02  1.74988303e-02 -4.16656695e-02\n",
      "  -9.10680145e-02  4.03244048e-02 -5.21881469e-02 -1.34948418e-02\n",
      "  -8.45149830e-02  1.54380212e-02 -5.93436975e-03 -5.47020249e-02\n",
      "   5.36603741e-02 -3.31198908e-02  3.26582789e-02  3.96982674e-03\n",
      "   3.14560644e-02 -7.80303702e-02 -2.36062687e-02 -4.90581617e-02\n",
      "   1.34790754e-02 -1.49472002e-02  1.01181993e-03  1.39848273e-02\n",
      "  -3.95927094e-02  5.17606968e-03 -4.14977930e-02 -7.50463158e-02\n",
      "   5.34078144e-02  2.34293137e-02 -9.20556849e-05  5.91184981e-02\n",
      "   6.00227760e-03 -1.83790643e-02  1.01776727e-01  1.61523357e-01\n",
      "  -3.05360109e-02  3.34349833e-02  4.77818958e-02 -7.95376822e-02\n",
      "  -8.69218931e-02 -6.19172789e-02  3.86949889e-02  1.16512785e-02\n",
      "   8.74069426e-03 -1.37702217e-02 -1.79305440e-03  1.69417150e-02\n",
      "   4.29908484e-02  2.15750858e-02 -8.63452163e-03 -3.00085042e-02\n",
      "  -1.56878550e-02 -2.49264892e-02 -1.01753347e-01  1.15015127e-01\n",
      "   5.30172549e-02  6.11778051e-02 -2.10131668e-02  1.51980110e-02\n",
      "   1.54683189e-02 -1.33266509e-01  4.29891311e-02 -1.04956254e-02\n",
      "   4.35876548e-02  1.47305029e-02  1.68966949e-02  1.88986622e-02\n",
      "  -8.43906999e-02 -4.13443781e-02 -8.00978113e-03 -2.57957485e-02\n",
      "  -1.53761702e-02  4.52667326e-02 -2.45261230e-02 -5.12369461e-02\n",
      "   4.28217351e-02  7.42216036e-02 -9.37691703e-02  6.76268265e-02\n",
      "  -2.85994522e-02  8.17415565e-02 -6.86428994e-02 -3.61413620e-02\n",
      "   2.37586759e-02  7.51906484e-02  2.61284388e-03  1.05200987e-02\n",
      "  -6.78816363e-02  6.19002094e-04  3.19886804e-02  1.62000954e-02\n",
      "  -1.32046016e-02 -9.04717222e-02  1.81514584e-02 -2.31063422e-02\n",
      "  -2.02363078e-02  9.20119584e-02  3.09358276e-02 -1.70366634e-02\n",
      "   1.48098499e-01  1.85667071e-02 -1.46366674e-02  1.43052191e-02\n",
      "  -1.07243411e-01 -1.86977703e-02  8.37912560e-02 -3.94199789e-02\n",
      "   2.46874020e-02  6.74599782e-02  5.27005196e-02  3.04873567e-03\n",
      "   5.50750531e-02 -2.93164011e-02  9.90982074e-03 -7.44821355e-02\n",
      "   4.82382812e-03 -3.13272304e-03  6.58453107e-02  2.58373432e-02\n",
      "   2.54807714e-02 -8.71612132e-03 -1.34774833e-03  1.91228203e-02\n",
      "   2.80820765e-02  3.65892313e-02 -2.44931802e-02 -8.08079243e-02\n",
      "   2.49129999e-02 -5.33295004e-03 -1.71023719e-02  3.38667445e-02\n",
      "   6.34004697e-02 -3.39169288e-03 -6.73540607e-02 -5.59381163e-03\n",
      "   2.14978289e-02  6.57216012e-02 -4.73809689e-02 -7.93624297e-02\n",
      "   4.10113558e-02 -4.60110866e-02 -6.34863833e-03 -1.16411999e-01\n",
      "  -1.73339155e-02  1.80945732e-02  3.68371271e-02  4.43140455e-02\n",
      "  -3.64833064e-02  8.45566913e-02 -9.28594265e-03  1.40721295e-02\n",
      "   3.98225263e-02 -1.72687154e-02  4.24612164e-02 -8.42362642e-02\n",
      "  -9.00570676e-02 -1.08254723e-01  5.11650778e-02 -6.62646829e-34\n",
      "   1.00477142e-02  1.47664636e-01 -1.25176027e-01  1.30696800e-02\n",
      "  -7.72284791e-02 -4.04069424e-02 -2.28387071e-04  3.99957672e-02\n",
      "   2.88522635e-02 -7.16992766e-02  5.19517437e-02 -1.12093082e-02\n",
      "  -4.20560949e-02  1.65413059e-02 -4.64897649e-03 -6.90465122e-02\n",
      "   8.33594576e-02  1.32894248e-01  1.71918068e-02 -3.90115641e-02\n",
      "   5.02945739e-04  5.84916547e-02 -1.91775002e-02  4.03286293e-02\n",
      "  -1.18582442e-01 -2.26115808e-02  4.32195328e-02  3.73355491e-04\n",
      "  -2.60729566e-02  7.50851724e-03  2.62880437e-02 -9.50660184e-03\n",
      "  -3.08885612e-02  8.53649825e-02 -7.86309093e-02  5.03775291e-03\n",
      "   1.05903232e-02 -5.03901318e-02 -3.75190079e-02  1.02571130e-01\n",
      "  -1.00848284e-02 -1.92198306e-02 -9.51358005e-02  4.98999916e-02\n",
      "  -4.57864404e-02 -2.07239203e-02  6.82264892e-03 -1.02971792e-02\n",
      "   2.79763136e-02 -9.24184844e-02  5.91446757e-02 -6.78579584e-02\n",
      "  -1.63615104e-02 -5.37296720e-02  2.58108322e-02 -3.96080948e-02\n",
      "  -1.32280467e-02 -8.07856992e-02  3.24107111e-02 -1.17768999e-02\n",
      "  -5.64667508e-02  2.80927569e-02  1.38293058e-02 -6.23833248e-03\n",
      "   3.36434208e-02  6.11349680e-02  1.87463127e-02  8.01353380e-02\n",
      "   4.91362736e-02 -1.72339007e-02  9.34715848e-03 -1.33358724e-02\n",
      "  -1.31083336e-02  4.16140724e-03 -5.46858273e-03 -9.31241065e-02\n",
      "  -4.08928916e-02 -2.49250792e-02 -5.94015680e-02 -3.13742049e-02\n",
      "   5.26218191e-02 -5.03779389e-02  2.72041429e-02  2.30292715e-02\n",
      "   2.65850220e-02 -2.21516900e-02  8.50355402e-02  6.27714396e-02\n",
      "  -2.54752673e-02  4.60197441e-02 -1.17266085e-02  4.57523912e-02\n",
      "   7.52886683e-02  2.21624039e-02 -9.46976990e-03  2.60747452e-32\n",
      "  -4.32849675e-02 -6.53488412e-02 -1.44597858e-01  2.53649894e-02\n",
      "   8.40282813e-02 -7.91343488e-03  3.11465021e-02 -1.25500858e-01\n",
      "  -2.05705054e-02 -2.63114180e-02  2.40246952e-02  3.18438895e-02\n",
      "  -5.12126535e-02  5.79086468e-02  9.64940339e-03  6.79427087e-02\n",
      "   1.16916420e-03  1.93950236e-02 -1.34524144e-02  3.54422294e-02\n",
      "  -3.84987481e-02 -1.46510648e-02 -2.89153773e-02 -3.03496420e-02\n",
      "  -2.86472179e-02  2.89422143e-02 -1.12347854e-02  4.18911269e-03\n",
      "   5.21428771e-02  7.40833930e-04  3.03338245e-02  5.12195341e-02\n",
      "  -2.30243597e-02 -5.67511730e-02 -2.76548993e-02 -5.06410040e-02\n",
      "   7.38861412e-02  3.73085216e-02  9.66246203e-02 -1.11503908e-02\n",
      "   1.37442481e-02 -1.09211989e-02 -6.55814726e-03  6.88764453e-03\n",
      "  -6.55193850e-02  6.81859150e-04  1.52040692e-02  1.57143753e-02\n",
      "   2.23387443e-02 -4.50545438e-02  3.99379656e-02 -5.90202399e-02\n",
      "   5.90229891e-02 -5.94306663e-02  6.64417893e-02 -5.41901067e-02\n",
      "  -1.88294537e-02  1.17273919e-01  8.49735923e-03  1.07951008e-01\n",
      "  -7.06600549e-04  3.37568894e-02  8.43372662e-03 -6.00359291e-02]]\n"
     ]
    }
   ],
   "source": [
    "from sentence_transformers import SentenceTransformer\n",
    "\n",
    "model = SentenceTransformer('sentence-transformers/all-MiniLM-L12-v2')\n",
    "embeddings = model.encode(sentences)\n",
    "print(embeddings)\n"
   ]
  },
  {
   "cell_type": "code",
   "execution_count": null,
   "id": "016ddcba",
   "metadata": {},
   "outputs": [],
   "source": [
    "df['embedding'] = df['title'].apply(get_embedding)\n"
   ]
  },
  {
   "cell_type": "code",
   "execution_count": 11,
   "id": "79ee4c35",
   "metadata": {},
   "outputs": [
    {
     "data": {
      "text/html": [
       "<div>\n",
       "<style scoped>\n",
       "    .dataframe tbody tr th:only-of-type {\n",
       "        vertical-align: middle;\n",
       "    }\n",
       "\n",
       "    .dataframe tbody tr th {\n",
       "        vertical-align: top;\n",
       "    }\n",
       "\n",
       "    .dataframe thead th {\n",
       "        text-align: right;\n",
       "    }\n",
       "</style>\n",
       "<table border=\"1\" class=\"dataframe\">\n",
       "  <thead>\n",
       "    <tr style=\"text-align: right;\">\n",
       "      <th></th>\n",
       "      <th>id</th>\n",
       "      <th>text_col</th>\n",
       "      <th>embedding</th>\n",
       "    </tr>\n",
       "  </thead>\n",
       "  <tbody>\n",
       "    <tr>\n",
       "      <th>0</th>\n",
       "      <td>1</td>\n",
       "      <td>Text data 1</td>\n",
       "      <td>[0.0063197897, 0.064651124, -0.092696056, -0.0...</td>\n",
       "    </tr>\n",
       "    <tr>\n",
       "      <th>1</th>\n",
       "      <td>2</td>\n",
       "      <td>Text data 2</td>\n",
       "      <td>[0.0065731388, 0.07246531, -0.10293162, -0.078...</td>\n",
       "    </tr>\n",
       "    <tr>\n",
       "      <th>2</th>\n",
       "      <td>3</td>\n",
       "      <td>Text data 3</td>\n",
       "      <td>[0.0064270315, 0.040634044, -0.08852667, -0.09...</td>\n",
       "    </tr>\n",
       "    <tr>\n",
       "      <th>3</th>\n",
       "      <td>4</td>\n",
       "      <td>Text data 4</td>\n",
       "      <td>[0.0026439636, 0.040834617, -0.1041754, -0.078...</td>\n",
       "    </tr>\n",
       "    <tr>\n",
       "      <th>4</th>\n",
       "      <td>5</td>\n",
       "      <td>Text data 5</td>\n",
       "      <td>[-0.030248975, 0.02088403, -0.059734967, -0.08...</td>\n",
       "    </tr>\n",
       "  </tbody>\n",
       "</table>\n",
       "</div>"
      ],
      "text/plain": [
       "   id     text_col                                          embedding\n",
       "0   1  Text data 1  [0.0063197897, 0.064651124, -0.092696056, -0.0...\n",
       "1   2  Text data 2  [0.0065731388, 0.07246531, -0.10293162, -0.078...\n",
       "2   3  Text data 3  [0.0064270315, 0.040634044, -0.08852667, -0.09...\n",
       "3   4  Text data 4  [0.0026439636, 0.040834617, -0.1041754, -0.078...\n",
       "4   5  Text data 5  [-0.030248975, 0.02088403, -0.059734967, -0.08..."
      ]
     },
     "execution_count": 11,
     "metadata": {},
     "output_type": "execute_result"
    }
   ],
   "source": [
    "df.head()"
   ]
  },
  {
   "cell_type": "code",
   "execution_count": 16,
   "id": "190979d6",
   "metadata": {},
   "outputs": [],
   "source": [
    "from sentence_transformers import SentenceTransformer\n",
    "from sklearn.metrics.pairwise import cosine_similarity\n",
    "import numpy as np"
   ]
  },
  {
   "cell_type": "code",
   "execution_count": 21,
   "id": "394cebd8",
   "metadata": {},
   "outputs": [],
   "source": [
    "def find_most_similar_with_scores(query, df, top_n=5):\n",
    "    # Encode the query using the same model\n",
    "    query_embedding = model.encode(query)\n",
    "    \n",
    "    # Calculate cosine similarities between the query and all text embeddings\n",
    "    similarities = cosine_similarity([query_embedding], np.array(df['embedding'].tolist())).flatten()\n",
    "    \n",
    "    # Get the top_n most similar texts and their indices\n",
    "    most_similar_indices = np.argsort(similarities)[::-1][:top_n]\n",
    "    most_similar_scores = np.sort(similarities)[::-1][:top_n]\n",
    "    \n",
    "    # Select the most similar texts and add their similarity scores\n",
    "    similar_texts = df.iloc[most_similar_indices]\n",
    "    similar_texts['similarity_score'] = most_similar_scores\n",
    "    \n",
    "    return similar_texts\n"
   ]
  },
  {
   "cell_type": "code",
   "execution_count": 24,
   "id": "63fed18b",
   "metadata": {},
   "outputs": [
    {
     "name": "stdout",
     "output_type": "stream",
     "text": [
      "   id     text_col                                          embedding  \\\n",
      "3   4  Text data 4  [0.0026439636, 0.040834617, -0.1041754, -0.078...   \n",
      "4   5  Text data 5  [-0.030248975, 0.02088403, -0.059734967, -0.08...   \n",
      "2   3  Text data 3  [0.0064270315, 0.040634044, -0.08852667, -0.09...   \n",
      "5   6  Text data 6  [-0.014453069, 0.023998005, -0.07315901, -0.04...   \n",
      "0   1  Text data 1  [0.0063197897, 0.064651124, -0.092696056, -0.0...   \n",
      "\n",
      "   similarity_score  \n",
      "3          1.000000  \n",
      "4          0.915037  \n",
      "2          0.907374  \n",
      "5          0.901239  \n",
      "0          0.883393  \n"
     ]
    },
    {
     "name": "stderr",
     "output_type": "stream",
     "text": [
      "/var/folders/r9/lk69b51j6x96k8r1xj0vp4_h0000gp/T/ipykernel_3054/2966574587.py:14: SettingWithCopyWarning: \n",
      "A value is trying to be set on a copy of a slice from a DataFrame.\n",
      "Try using .loc[row_indexer,col_indexer] = value instead\n",
      "\n",
      "See the caveats in the documentation: https://pandas.pydata.org/pandas-docs/stable/user_guide/indexing.html#returning-a-view-versus-a-copy\n",
      "  similar_texts['similarity_score'] = most_similar_scores\n"
     ]
    }
   ],
   "source": [
    "query = \"Text data 4 \"\n",
    "similar_texts_with_scores = find_most_similar_with_scores(query, df)\n",
    "print(similar_texts_with_scores)\n"
   ]
  },
  {
   "cell_type": "code",
   "execution_count": null,
   "id": "effb981d",
   "metadata": {},
   "outputs": [],
   "source": []
  }
 ],
 "metadata": {
  "kernelspec": {
   "display_name": "Python 3 (ipykernel)",
   "language": "python",
   "name": "python3"
  },
  "language_info": {
   "codemirror_mode": {
    "name": "ipython",
    "version": 3
   },
   "file_extension": ".py",
   "mimetype": "text/x-python",
   "name": "python",
   "nbconvert_exporter": "python",
   "pygments_lexer": "ipython3",
   "version": "3.9.7"
  }
 },
 "nbformat": 4,
 "nbformat_minor": 5
}
